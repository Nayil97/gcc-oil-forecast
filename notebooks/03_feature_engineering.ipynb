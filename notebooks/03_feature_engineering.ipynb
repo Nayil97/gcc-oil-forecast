{
 "cells": [
  {
   "cell_type": "markdown",
   "id": "66afe7c5",
   "metadata": {},
   "source": [
    "# 03 Feature Engineering\n",
    "\n",
    "This notebook constructs the feature matrix used for model training."
   ]
  },
  {
   "cell_type": "code",
   "execution_count": 4,
   "id": "ce6e9166",
   "metadata": {},
   "outputs": [],
   "source": [
    "# Imports and path setup\n",
    "import sys\n",
    "from pathlib import Path\n",
    "project_root = Path('/home/sayda/update')\n",
    "if str(project_root) not in sys.path:\n",
    "    sys.path.insert(0, str(project_root))\n",
    "\n",
    "from src.features import build_features"
   ]
  },
  {
   "cell_type": "code",
   "execution_count": 5,
   "id": "bc5f3a68",
   "metadata": {},
   "outputs": [
    {
     "name": "stderr",
     "output_type": "stream",
     "text": [
      "2025-10-21 16:31:50,634 [INFO] src.features.build_features: Building feature matrix...\n",
      "2025-10-21 16:31:54,616 [INFO] src.data.loaders: Loaded NewProcedure_Primary_CSV.csv from world_primary_csv.zip\n",
      "2025-10-21 16:31:54,616 [INFO] src.data.loaders: Loaded NewProcedure_Primary_CSV.csv from world_primary_csv.zip\n",
      "2025-10-21 16:31:58,079 [INFO] src.data.loaders: Loading CSV renewable-energy-installed-capacity-and-electricity-production.csv\n",
      "2025-10-21 16:31:58,088 [INFO] src.data.loaders: Loading CSV saudi-crude-oil-production-from-sama-annual-statistics-2015-dec.csv\n",
      "2025-10-21 16:31:58,079 [INFO] src.data.loaders: Loading CSV renewable-energy-installed-capacity-and-electricity-production.csv\n",
      "2025-10-21 16:31:58,088 [INFO] src.data.loaders: Loading CSV saudi-crude-oil-production-from-sama-annual-statistics-2015-dec.csv\n",
      "2025-10-21 16:31:58,102 [INFO] src.data.loaders: Loading Excel RBRTEm.xls (sheet: 0)\n",
      "2025-10-21 16:31:58,105 [ERROR] src.data.loaders: Unable to read RBRTEm.xls.  Install xlrd or openpyxl to proceed.\n",
      "2025-10-21 16:31:58,107 [WARNING] src.features.build_features: Could not load Brent data: Missing optional dependency 'xlrd'. Install xlrd >= 2.0.1 for xls Excel support Use pip or conda to install xlrd.. Using placeholder zeros.\n",
      "2025-10-21 16:31:58,102 [INFO] src.data.loaders: Loading Excel RBRTEm.xls (sheet: 0)\n",
      "2025-10-21 16:31:58,105 [ERROR] src.data.loaders: Unable to read RBRTEm.xls.  Install xlrd or openpyxl to proceed.\n",
      "2025-10-21 16:31:58,107 [WARNING] src.features.build_features: Could not load Brent data: Missing optional dependency 'xlrd'. Install xlrd >= 2.0.1 for xls Excel support Use pip or conda to install xlrd.. Using placeholder zeros.\n",
      "2025-10-21 16:31:58,206 [INFO] src.features.build_features: Saved features to /home/sayda/update/data/processed/features.csv\n",
      "2025-10-21 16:31:58,206 [INFO] src.features.build_features: Saved features to /home/sayda/update/data/processed/features.csv\n"
     ]
    }
   ],
   "source": [
    "# Build features\n",
    "df = build_features.build_features()"
   ]
  },
  {
   "cell_type": "code",
   "execution_count": 6,
   "id": "8d13801e",
   "metadata": {},
   "outputs": [
    {
     "name": "stdout",
     "output_type": "stream",
     "text": [
      "          date  saudi_production  brent_price  renewables_time_period  \\\n",
      "576 2010-01-01              2010          0.0                 18090.0   \n",
      "577 2010-02-01              2010          0.0                 18090.0   \n",
      "578 2010-03-01              2010          0.0                 18090.0   \n",
      "579 2010-04-01              2010          0.0                 18090.0   \n",
      "580 2010-05-01              2010          0.0                 18090.0   \n",
      "\n",
      "     renewables_value  world_obs_value  world_assessment_code  \\\n",
      "576              55.8     3.968510e+06                 3550.0   \n",
      "577              55.8     3.757517e+06                 3550.0   \n",
      "578              55.8     3.993589e+06                 3550.0   \n",
      "579              55.8     3.958701e+06                 3550.0   \n",
      "580              55.8     4.025347e+06                 3550.0   \n",
      "\n",
      "     saudi_production_lag_1  saudi_production_lag_2  saudi_production_lag_3  \\\n",
      "576                  2009.0                  2009.0                  2009.0   \n",
      "577                  2010.0                  2009.0                  2009.0   \n",
      "578                  2010.0                  2010.0                  2009.0   \n",
      "579                  2010.0                  2010.0                  2010.0   \n",
      "580                  2010.0                  2010.0                  2010.0   \n",
      "\n",
      "     ...  world_assessment_code_lag_2  world_assessment_code_lag_3  \\\n",
      "576  ...                       3550.0                       3544.0   \n",
      "577  ...                       3550.0                       3550.0   \n",
      "578  ...                       3550.0                       3550.0   \n",
      "579  ...                       3550.0                       3550.0   \n",
      "580  ...                       3550.0                       3550.0   \n",
      "\n",
      "     world_assessment_code_lag_6  world_assessment_code_lag_12  \\\n",
      "576                       3544.0                        3544.0   \n",
      "577                       3544.0                        3544.0   \n",
      "578                       3544.0                        3544.0   \n",
      "579                       3544.0                        3544.0   \n",
      "580                       3550.0                        3544.0   \n",
      "\n",
      "     world_assessment_code_roll_mean_3  world_assessment_code_roll_std_3  \\\n",
      "576                             3550.0                               0.0   \n",
      "577                             3550.0                               0.0   \n",
      "578                             3550.0                               0.0   \n",
      "579                             3550.0                               0.0   \n",
      "580                             3550.0                               0.0   \n",
      "\n",
      "     world_assessment_code_roll_mean_6  world_assessment_code_roll_std_6  \\\n",
      "576                             3547.0                          3.286335   \n",
      "577                             3548.0                          3.098387   \n",
      "578                             3549.0                          2.449490   \n",
      "579                             3550.0                          0.000000   \n",
      "580                             3550.0                          0.000000   \n",
      "\n",
      "     world_assessment_code_roll_mean_12  world_assessment_code_roll_std_12  \n",
      "576                              3545.5                           2.713602  \n",
      "577                              3546.0                           2.954196  \n",
      "578                              3546.5                           3.089572  \n",
      "579                              3547.0                           3.133398  \n",
      "580                              3547.5                           3.089572  \n",
      "\n",
      "[5 rows x 73 columns]\n"
     ]
    }
   ],
   "source": [
    "# Preview features\n",
    "print(df.head())"
   ]
  }
 ],
 "metadata": {
  "kernelspec": {
   "display_name": ".venv (3.12.3)",
   "language": "python",
   "name": "python3"
  },
  "language_info": {
   "codemirror_mode": {
    "name": "ipython",
    "version": 3
   },
   "file_extension": ".py",
   "mimetype": "text/x-python",
   "name": "python",
   "nbconvert_exporter": "python",
   "pygments_lexer": "ipython3",
   "version": "3.12.3"
  }
 },
 "nbformat": 4,
 "nbformat_minor": 5
}
