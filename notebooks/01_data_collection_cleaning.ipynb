{
 "cells": [
  {
   "cell_type": "markdown",
   "id": "50c8fac1",
   "metadata": {},
   "source": [
    "# 01 Data Collection and Cleaning\n",
    "\n",
    "This notebook loads the raw datasets, performs initial cleaning and stores cleaned data frames. We display summary information to understand the data structure."
   ]
  },
  {
   "cell_type": "code",
   "execution_count": 7,
   "id": "b5738622",
   "metadata": {},
   "outputs": [],
   "source": [
    "# Imports and path setup\n",
    "import sys\n",
    "from pathlib import Path\n",
    "\n",
    "# Add project root to path\n",
    "project_root = Path('/home/sayda/update')\n",
    "if str(project_root) not in sys.path:\n",
    "    sys.path.insert(0, str(project_root))\n",
    "\n",
    "import pandas as pd\n",
    "import numpy as np\n",
    "from src.data import loaders, cleaning\n",
    "from src.config import RAW_DATA_DIR"
   ]
  },
  {
   "cell_type": "code",
   "execution_count": 8,
   "id": "1a3f5250",
   "metadata": {},
   "outputs": [],
   "source": [
    "# Load raw datasets\n",
    "world_raw = loaders.load_world_primary_energy(RAW_DATA_DIR)\n",
    "renew_raw = loaders.load_renewables(RAW_DATA_DIR)\n",
    "saudi_raw = loaders.load_saudi_crude(RAW_DATA_DIR)"
   ]
  },
  {
   "cell_type": "code",
   "execution_count": 9,
   "id": "5e3adc0c",
   "metadata": {},
   "outputs": [
    {
     "name": "stdout",
     "output_type": "stream",
     "text": [
      "World raw shape: (6652400, 7)\n",
      "Renewables raw shape: (133, 9)\n",
      "Saudi raw shape: (183, 5)\n"
     ]
    }
   ],
   "source": [
    "# Show raw shapes\n",
    "print(\"World raw shape:\", world_raw.shape)\n",
    "print(\"Renewables raw shape:\", renew_raw.shape)\n",
    "print(\"Saudi raw shape:\", saudi_raw.shape)"
   ]
  },
  {
   "cell_type": "code",
   "execution_count": 10,
   "id": "606cfccd",
   "metadata": {},
   "outputs": [
    {
     "name": "stdout",
     "output_type": "stream",
     "text": [
      "  REF_AREA TIME_PERIOD ENERGY_PRODUCT FLOW_BREAKDOWN UNIT_MEASURE  OBS_VALUE  \\\n",
      "0       AE     2002-01       CRUDEOIL        CLOSTLV      CONVBBL  7596.0000   \n",
      "1       AE     2002-01       CRUDEOIL        CLOSTLV         KBBL          -   \n",
      "2       AE     2002-01       CRUDEOIL        CLOSTLV          KBD          x   \n",
      "3       AE     2002-01       CRUDEOIL        CLOSTLV           KL          -   \n",
      "4       AE     2002-01       CRUDEOIL        CLOSTLV        KTONS          -   \n",
      "\n",
      "   ASSESSMENT_CODE  \n",
      "0                3  \n",
      "1                3  \n",
      "2                3  \n",
      "3                3  \n",
      "4                3  \n",
      "   TIME_PERIOD REF_AREA    FREQ UNIT_MEASURE  \\\n",
      "0         2014      UAE  Annual           MW   \n",
      "1         2017      UAE  Annual           MW   \n",
      "2         2019      UAE  Annual           MW   \n",
      "3         2011      UAE  Annual           MW   \n",
      "4         2014      UAE  Annual           MW   \n",
      "\n",
      "                           SOURCE_DETAIL  \\\n",
      "0  Ministry of Energy and Infrastructure   \n",
      "1  Ministry of Energy and Infrastructure   \n",
      "2  Ministry of Energy and Infrastructure   \n",
      "3  Ministry of Energy and Infrastructure   \n",
      "4  Ministry of Energy and Infrastructure   \n",
      "\n",
      "                                   RE_MEASURE          PLANT_TYPE   value  \\\n",
      "0  Installed Capacity Renewable Energy Plants  Solar photovoltaic    30.0   \n",
      "1  Installed Capacity Renewable Energy Plants  Solar photovoltaic   250.1   \n",
      "2  Installed Capacity Renewable Energy Plants  Solar photovoltaic  1830.5   \n",
      "3  Installed Capacity Renewable Energy Plants               Total    12.6   \n",
      "4  Installed Capacity Renewable Energy Plants               Total   131.0   \n",
      "\n",
      "  DECIMALS  \n",
      "0      Two  \n",
      "1      Two  \n",
      "2      Two  \n",
      "3      Two  \n",
      "4      Two  \n",
      "   Year Production Indicator    Value Periodicity Date_Object\n",
      "0  1964                Total   694.13    Annually  1964-01-01\n",
      "1  1965                Total   804.94    Annually  1965-01-01\n",
      "2  1967                Total  1023.84    Annually  1967-01-01\n",
      "3  1971                Total  1740.68    Annually  1971-01-01\n",
      "4  1977                Total  3357.96    Annually  1977-01-01\n"
     ]
    }
   ],
   "source": [
    "# Preview raw data heads\n",
    "print(world_raw.head())\n",
    "print(renew_raw.head())\n",
    "print(saudi_raw.head())"
   ]
  },
  {
   "cell_type": "code",
   "execution_count": 11,
   "id": "44df8bff",
   "metadata": {},
   "outputs": [],
   "source": [
    "# Clean datasets\n",
    "world = cleaning.clean_world_primary_energy(world_raw)\n",
    "renew = cleaning.clean_renewables(renew_raw)\n",
    "saudi = cleaning.clean_saudi_crude(saudi_raw)"
   ]
  },
  {
   "cell_type": "code",
   "execution_count": 12,
   "id": "870ba3d6",
   "metadata": {},
   "outputs": [
    {
     "name": "stdout",
     "output_type": "stream",
     "text": [
      "Cleaned world columns: ['ref_area', 'time_period', 'energy_product', 'flow_breakdown', 'unit_measure', 'obs_value', 'assessment_code', 'date']\n",
      "Cleaned renewables columns: ['time_period', 'ref_area', 'freq', 'unit_measure', 'source_detail', 're_measure', 'plant_type', 'value', 'decimals', 'date']\n",
      "Cleaned Saudi columns: ['year', 'production_indicator', 'value', 'periodicity', 'date_object', 'date']\n"
     ]
    }
   ],
   "source": [
    "# Inspect cleaned columns\n",
    "print(\"Cleaned world columns:\", world.columns.tolist())\n",
    "print(\"Cleaned renewables columns:\", renew.columns.tolist())\n",
    "print(\"Cleaned Saudi columns:\", saudi.columns.tolist())"
   ]
  }
 ],
 "metadata": {
  "kernelspec": {
   "display_name": "Python (oil-venv)",
   "language": "python",
   "name": "oil-venv"
  },
  "language_info": {
   "codemirror_mode": {
    "name": "ipython",
    "version": 3
   },
   "file_extension": ".py",
   "mimetype": "text/x-python",
   "name": "python",
   "nbconvert_exporter": "python",
   "pygments_lexer": "ipython3",
   "version": "3.12.3"
  }
 },
 "nbformat": 4,
 "nbformat_minor": 5
}
